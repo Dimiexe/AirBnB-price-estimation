{
 "cells": [
  {
   "cell_type": "code",
   "execution_count": 3,
   "metadata": {},
   "outputs": [],
   "source": [
    "import requests\n",
    "\n",
    "## Set here the endpoint's url based on the deployment of the server.\n",
    "url = \"http://127.0.0.1:8000/predict\""
   ]
  },
  {
   "cell_type": "code",
   "execution_count": 4,
   "metadata": {},
   "outputs": [],
   "source": [
    "## Inputting random data\n",
    "\n",
    "data = {\n",
    "    \"host_since\" : 2015.00000,\n",
    "    \"host_response_time\" : 4.00000,\n",
    "    \"host_response_rate\" : 100.00000,\n",
    "    \"host_is_superhost\" : 0.00000,\n",
    "    \"host_listings_count\" : 1.00000,\n",
    "    \"host_has_profile_pic\" : 1.00000,\n",
    "    \"host_identity_verified\" : 1.00000,\n",
    "    \"neighbourhood_cleansed\" : 599.00000,\n",
    "    \"latitude\" : 37.98203,\n",
    "    \"longitude\" : 23.71869,\n",
    "    \"room_type\" : 3.00000,\n",
    "    \"accommodates\" : 3.00000,\n",
    "    \"amenities\" : 20.00000,\n",
    "    \"minimum_nights\" : 3.00000,\n",
    "    \"maximum_nights\" : 1125.00000,\n",
    "    \"has_availability\" : 1.00000,\n",
    "    \"availability_30\" : 24.00000,\n",
    "    \"availability_60\" : 54.00000,\n",
    "    \"availability_90\" : 84.00000,\n",
    "    \"availability_365\" : 332.00000,\n",
    "    \"number_of_reviews\" : 102.00000,\n",
    "    \"number_of_reviews_ltm\" : 3.00000,\n",
    "    \"number_of_reviews_l30d\" : 0.00000,\n",
    "    \"instant_bookable\" : 1.00000,\n",
    "    \"reviews_per_month\" : 1.30000,\n",
    "    \"bathrooms\" : 1.50000,\n",
    "    \"shared_bath\" : 0.00000,\n",
    "    \"target\" : 32.00000\n",
    "}\n",
    "\n",
    "## Sending data for evaluation at the API endpoint.\n",
    "results = requests.post(url,headers={\"Content-type\": \"application/json\"},json=data)"
   ]
  },
  {
   "cell_type": "code",
   "execution_count": 5,
   "metadata": {},
   "outputs": [
    {
     "name": "stdout",
     "output_type": "stream",
     "text": [
      "The predicted value based on the features is 50.72 €/night\n"
     ]
    }
   ],
   "source": [
    "## Printing the response in context.\n",
    "\n",
    "print(\"The predicted value based on the features is\",round(results.json()[\"prediction\"]*100)/100,\"€/night\")"
   ]
  }
 ],
 "metadata": {
  "interpreter": {
   "hash": "1baa965d5efe3ac65b79dfc60c0d706280b1da80fedb7760faf2759126c4f253"
  },
  "kernelspec": {
   "display_name": "Python 3.8.6 64-bit",
   "language": "python",
   "name": "python3"
  },
  "language_info": {
   "codemirror_mode": {
    "name": "ipython",
    "version": 3
   },
   "file_extension": ".py",
   "mimetype": "text/x-python",
   "name": "python",
   "nbconvert_exporter": "python",
   "pygments_lexer": "ipython3",
   "version": "3.8.6"
  },
  "orig_nbformat": 4
 },
 "nbformat": 4,
 "nbformat_minor": 2
}
