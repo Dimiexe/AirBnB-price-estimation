{
 "cells": [
  {
   "cell_type": "code",
   "execution_count": 68,
   "metadata": {},
   "outputs": [],
   "source": [
    "import requests, json\n",
    "\n"
   ]
  },
  {
   "cell_type": "markdown",
   "metadata": {},
   "source": [
    "### Example case of prediction"
   ]
  },
  {
   "cell_type": "code",
   "execution_count": 69,
   "metadata": {},
   "outputs": [
    {
     "name": "stdout",
     "output_type": "stream",
     "text": [
      "The predicted value based on the features is 50.72 €/night\n"
     ]
    }
   ],
   "source": [
    "## Set here the endpoint's url based on the deployment of the server.\n",
    "url = \"http://127.0.0.1:8000/predict\"\n",
    "\n",
    "## Inputting random data\n",
    "data = {\n",
    "    \"host_since\" : 2015.00000,\n",
    "    \"host_response_time\" : 4.00000,\n",
    "    \"host_response_rate\" : 100.00000,\n",
    "    \"host_is_superhost\" : 0.00000,\n",
    "    \"host_listings_count\" : 1.00000,\n",
    "    \"host_has_profile_pic\" : 1.00000,\n",
    "    \"host_identity_verified\" : 1.00000,\n",
    "    \"neighbourhood_cleansed\" : 599.00000,\n",
    "    \"latitude\" : 37.98203,\n",
    "    \"longitude\" : 23.71869,\n",
    "    \"room_type\" : 3.00000,\n",
    "    \"accommodates\" : 3.00000,\n",
    "    \"amenities\" : 20.00000,\n",
    "    \"minimum_nights\" : 3.00000,\n",
    "    \"maximum_nights\" : 1125.00000,\n",
    "    \"has_availability\" : 1.00000,\n",
    "    \"availability_30\" : 24.00000,\n",
    "    \"availability_60\" : 54.00000,\n",
    "    \"availability_90\" : 84.00000,\n",
    "    \"availability_365\" : 332.00000,\n",
    "    \"number_of_reviews\" : 102.00000,\n",
    "    \"number_of_reviews_ltm\" : 3.00000,\n",
    "    \"number_of_reviews_l30d\" : 0.00000,\n",
    "    \"instant_bookable\" : 1.00000,\n",
    "    \"reviews_per_month\" : 1.30000,\n",
    "    \"bathrooms\" : 1.50000,\n",
    "    \"shared_bath\" : 0.00000,\n",
    "    \"target\" : 32.00000\n",
    "}\n",
    "\n",
    "## Sending data for evaluation at the API endpoint.\n",
    "results = requests.post(url,headers={\"Content-type\" : \"application/json\"},json=data)\n",
    "\n",
    "## Printing the response in context.\n",
    "print(\"The predicted value based on the features is\", round(results.json()[\"prediction\"]*100)/100,\"€/night\")"
   ]
  },
  {
   "cell_type": "markdown",
   "metadata": {},
   "source": [
    "### Example of requesting feature importances"
   ]
  },
  {
   "cell_type": "code",
   "execution_count": 70,
   "metadata": {},
   "outputs": [
    {
     "name": "stdout",
     "output_type": "stream",
     "text": [
      "{\n",
      "    \"shared_bath\": \"0.32376644\",\n",
      "    \"bathrooms\": \"0.11271518\",\n",
      "    \"room_type\": \"0.080554664\",\n",
      "    \"accommodates\": \"0.060787812\",\n",
      "    \"latitude\": \"0.034106243\",\n",
      "    \"reviews_per_month\": \"0.030052401\",\n",
      "    \"neighbourhood_cleansed\": \"0.030048039\",\n",
      "    \"availability_30\": \"0.023288226\",\n",
      "    \"availability_90\": \"0.022765711\",\n",
      "    \"host_listings_count\": \"0.020784365\",\n",
      "    \"minimum_nights\": \"0.020476738\",\n",
      "    \"number_of_reviews\": \"0.019387001\",\n",
      "    \"amenities\": \"0.01838744\",\n",
      "    \"number_of_reviews_ltm\": \"0.017875884\",\n",
      "    \"longitude\": \"0.017249143\",\n",
      "    \"availability_365\": \"0.016858194\",\n",
      "    \"availability_60\": \"0.016836353\",\n",
      "    \"has_availability\": \"0.016796058\",\n",
      "    \"host_identity_verified\": \"0.015852101\",\n",
      "    \"maximum_nights\": \"0.01584409\",\n",
      "    \"instant_bookable\": \"0.015399825\",\n",
      "    \"number_of_reviews_l30d\": \"0.014798532\",\n",
      "    \"host_is_superhost\": \"0.0144516835\",\n",
      "    \"host_response_time\": \"0.013082234\",\n",
      "    \"host_response_rate\": \"0.0111678615\",\n",
      "    \"host_since\": \"0.010706465\",\n",
      "    \"host_has_profile_pic\": \"0.0059613544\"\n",
      "}\n"
     ]
    }
   ],
   "source": [
    "## Set here the endpoint's url based on the deployment of the server.\n",
    "url = \"http://127.0.0.1:8000/xgb_importances\"\n",
    "results = requests.get(url)\n",
    "print(json.dumps(results.json(), indent=4))"
   ]
  },
  {
   "cell_type": "markdown",
   "metadata": {},
   "source": [
    "### Example of requesting model hyper-parameters"
   ]
  },
  {
   "cell_type": "code",
   "execution_count": 71,
   "metadata": {},
   "outputs": [
    {
     "name": "stdout",
     "output_type": "stream",
     "text": [
      "{\n",
      "    \"colsample_bytree\": 0.5,\n",
      "    \"learning_rate\": 0.05,\n",
      "    \"max_depth\": 7,\n",
      "    \"n_estimators\": 800\n",
      "}\n"
     ]
    }
   ],
   "source": [
    "## Set here the endpoint's url based on the deployment of the server.\n",
    "url = \"http://127.0.0.1:8000/xgb_parameters\"\n",
    "results = requests.get(url)\n",
    "print(json.dumps(results.json(), indent=4))"
   ]
  }
 ],
 "metadata": {
  "interpreter": {
   "hash": "1baa965d5efe3ac65b79dfc60c0d706280b1da80fedb7760faf2759126c4f253"
  },
  "kernelspec": {
   "display_name": "Python 3.8.6 64-bit",
   "language": "python",
   "name": "python3"
  },
  "language_info": {
   "codemirror_mode": {
    "name": "ipython",
    "version": 3
   },
   "file_extension": ".py",
   "mimetype": "text/x-python",
   "name": "python",
   "nbconvert_exporter": "python",
   "pygments_lexer": "ipython3",
   "version": "3.8.6"
  },
  "orig_nbformat": 4
 },
 "nbformat": 4,
 "nbformat_minor": 2
}
