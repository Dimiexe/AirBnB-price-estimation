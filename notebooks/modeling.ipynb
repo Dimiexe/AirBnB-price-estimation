{
 "cells": [
  {
   "cell_type": "markdown",
   "metadata": {},
   "source": [
    "## Modeling Script\n",
    "This script is used to performe grid search to find the optimal values for the hyper-parameters of 4 regression algorithm models.\n",
    "The models tried and their tuned hyperparameters are:\n",
    "1. Linear Regression |  ---\n",
    "2. Decision Tree &emsp;&nbsp;&nbsp;&nbsp;| max_depth:[5, 10, 15, 20, 40], min_samples_leaf:[1, 2, 4, 8]\n",
    "3. Random Forest &emsp;| tmax_depth:[5, 10, 15, 20, 40], n_estimators:[100, 200, 400, 800]\n",
    "4. XGBoost &emsp;&emsp;&emsp;&emsp;| max_depth:[5, 7, 8, 10, 15], n_estimators:[100, 200, 400, 800], learning_rate:[0.01, 0.05, 0.1, .2, .4, .8], colsample_bytree:[.5, .6, .8]"
   ]
  },
  {
   "cell_type": "code",
   "execution_count": 1,
   "metadata": {},
   "outputs": [],
   "source": [
    "# Importing needed modules and the dataset.\n",
    "\n",
    "import pandas as pd\n",
    "import os, time\n",
    "import matplotlib.pyplot as plt\n",
    "import seaborn as sns\n",
    "from preprocess import preprocess_dataframe\n",
    "from sklearn.ensemble import RandomForestRegressor\n",
    "from sklearn.tree import DecisionTreeRegressor\n",
    "from sklearn.linear_model import LinearRegression\n",
    "from sklearn.model_selection import train_test_split, GridSearchCV\n",
    "from xgboost import XGBRegressor\n",
    "from sklearn.metrics import mean_absolute_error, mean_squared_error\n",
    "\n",
    "\n",
    "df = pd.read_csv(\"..\\\\listings.csv\", sep = ',', header = 0, encoding = 'unicode_escape')"
   ]
  },
  {
   "cell_type": "code",
   "execution_count": 2,
   "metadata": {},
   "outputs": [
    {
     "name": "stdout",
     "output_type": "stream",
     "text": [
      "Droping rows with NaN values for training. You should provide data with no missing values for the columns:\n",
      " ['host_since' 'host_response_time' 'host_response_rate'\n",
      " 'host_is_superhost' 'host_listings_count' 'host_has_profile_pic'\n",
      " 'host_identity_verified' 'neighbourhood_cleansed' 'latitude' 'longitude'\n",
      " 'room_type' 'accommodates' 'amenities' 'minimum_nights' 'maximum_nights'\n",
      " 'has_availability' 'availability_30' 'availability_60' 'availability_90'\n",
      " 'availability_365' 'number_of_reviews' 'number_of_reviews_ltm'\n",
      " 'number_of_reviews_l30d' 'instant_bookable' 'reviews_per_month'\n",
      " 'bathrooms' 'shared_bath']\n"
     ]
    }
   ],
   "source": [
    "# Calling the preprocessing function on the dataset. It returns the preprocessed dataset and a boolean informing the user of any existing NAN values.\n",
    "\n",
    "df, has_nan_values = preprocess_dataframe(df)\n",
    "\n",
    "#Handling the case of existing NaN values.\n",
    "if has_nan_values:\n",
    "    print(\"Droping rows with NaN values for training. You should provide data with no missing values for the columns:\\n\",df.columns[:-1].values)\n",
    "    df.dropna(how=\"any\",inplace = True)"
   ]
  },
  {
   "cell_type": "code",
   "execution_count": 3,
   "metadata": {},
   "outputs": [],
   "source": [
    "# Define a single grid search function to call for each model. The outliers\n",
    "# (price > 150) are droped only for the training sets.\n",
    "#--------------------------------------------------\n",
    "# Arguements\n",
    "# df:           The preprocessed dataframe.\n",
    "# model_arg:    The function defining the model e.g. RandomForestRegressor().\n",
    "# dict_params:  the parameters and their values to try in dictionary form.\n",
    "#--------------------------------------------------\n",
    "# Returns\n",
    "# grid:                             The grid containing the tried models and their metrics.\n",
    "# X_train, X_test, y_train, y_test  The split datasets originating from df.\n",
    "\n",
    "def employ_grid_search(df, model_arg, dict_params):\n",
    "    X = df.iloc[:,:-1].copy()\n",
    "    y = df.target.copy()\n",
    "    \n",
    "    X_train, X_test, y_train, y_test = train_test_split(X, y, test_size=0.3, random_state=888)\n",
    "\n",
    "    # Removing outliers from training set only.\n",
    "    valid_indices = y_train[y_train <= 150].index\n",
    "    X_train = X_train.loc[valid_indices,:]\n",
    "    y_train = y_train.loc[valid_indices]\n",
    "\n",
    "    if os.cpu_count() > 2:\n",
    "        n_jobs = os.cpu_count() - 2\n",
    "        print(\"Using\",n_jobs,\"threads to parallelize grid search.\")\n",
    "    else:\n",
    "        n_jobs = 1\n",
    "    grid = GridSearchCV(model_arg, dict_params, cv = 10, verbose = 4,\n",
    "                        scoring = [\"neg_mean_absolute_error\",\"neg_median_absolute_error\",\"neg_mean_absolute_percentage_error\",\"neg_root_mean_squared_error\"], refit = False,\n",
    "                        n_jobs = n_jobs)\n",
    "    grid.fit(X_train, y_train)\n",
    "\n",
    "    return grid, X_train, X_test, y_train, y_test"
   ]
  },
  {
   "cell_type": "code",
   "execution_count": 4,
   "metadata": {},
   "outputs": [],
   "source": [
    "# Identify the best model parameters based on score achieved durring cross-validation. It is chosen from the top 5 models\n",
    "# based on rmse and mae.\n",
    "#--------------------------------------------------\n",
    "# Arguements\n",
    "# gs:           The grid object corresponding to the parameter tuning and 10-fold CV.\n",
    "#--------------------------------------------------\n",
    "# Returns\n",
    "# Nothing - It only prints the performance of all models based on rmse and mae metrics.\n",
    "\n",
    "def print_grid_models_info(gs):\n",
    "    print(\"\\n========\",gs.estimator,\"========\")\n",
    "    temp = pd.DataFrame(gs.cv_results_)\n",
    "    for metric in [\"mean_test_neg_mean_absolute_error\", \"mean_test_neg_root_mean_squared_error\"]:\n",
    "        print(\"\\t--------\",metric,\"--------\")\n",
    "        selected_params = temp.loc[temp.loc[:,metric].apply(lambda x: -x).sort_values(ascending = True).index.values[0:10],\"params\"]\n",
    "        for i,par in enumerate(selected_params):\n",
    "            print('\\t'*2,par,temp.loc[:,metric].apply(lambda x: -x).sort_values(ascending = True).iloc[i])"
   ]
  },
  {
   "cell_type": "markdown",
   "metadata": {},
   "source": [
    "### Running the grids"
   ]
  },
  {
   "cell_type": "code",
   "execution_count": 5,
   "metadata": {},
   "outputs": [
    {
     "name": "stdout",
     "output_type": "stream",
     "text": [
      "Using 10 threads to parallelize grid search.\n",
      "Fitting 10 folds for each of 1 candidates, totalling 10 fits\n",
      "\n",
      "======== LinearRegression() ========\n",
      "\t-------- mean_test_neg_mean_absolute_error --------\n",
      "\t\t {'normalize': True} 23.154742950282255\n",
      "\t-------- mean_test_neg_root_mean_squared_error --------\n",
      "\t\t {'normalize': True} 141.0909728852445\n"
     ]
    }
   ],
   "source": [
    "#Linear Regression --- No grid search is needed but included here for perspective reasons.\n",
    "\n",
    "# We normalize the inputs.\n",
    "lin_reg_params = {\"normalize\":[True]}\n",
    "gridLR, X_trainLR, X_testLR, y_trainLR, y_testLR = employ_grid_search(df, LinearRegression(), lin_reg_params)\n",
    "print_grid_models_info(gridLR)\n",
    "time.sleep(1)\n",
    "del gridLR"
   ]
  },
  {
   "cell_type": "code",
   "execution_count": 11,
   "metadata": {},
   "outputs": [
    {
     "name": "stdout",
     "output_type": "stream",
     "text": [
      "\n",
      "======== RandomForestRegressor() ========\n",
      "\t-------- mean_test_neg_mean_absolute_error --------\n",
      "\t\t {'max_depth': 20, 'n_estimators': 400} 15.00369202667272\n",
      "\t\t {'max_depth': 40, 'n_estimators': 400} 15.008526889353428\n",
      "\t\t {'max_depth': 20, 'n_estimators': 800} 15.022483710773226\n",
      "\t\t {'max_depth': 40, 'n_estimators': 800} 15.024543422071735\n",
      "\t\t {'max_depth': 40, 'n_estimators': 200} 15.052770671656873\n",
      "\t\t {'max_depth': 20, 'n_estimators': 200} 15.059772251229607\n",
      "\t\t {'max_depth': 40, 'n_estimators': 100} 15.072379460486825\n",
      "\t\t {'max_depth': 15, 'n_estimators': 400} 15.091625007528839\n",
      "\t\t {'max_depth': 15, 'n_estimators': 800} 15.10493791085212\n",
      "\t\t {'max_depth': 20, 'n_estimators': 100} 15.110201548943275\n",
      "\t-------- mean_test_neg_root_mean_squared_error --------\n",
      "\t\t {'max_depth': 40, 'n_estimators': 400} 20.760619539115385\n",
      "\t\t {'max_depth': 40, 'n_estimators': 800} 20.766191319072995\n",
      "\t\t {'max_depth': 20, 'n_estimators': 400} 20.776577528142347\n",
      "\t\t {'max_depth': 20, 'n_estimators': 800} 20.782752941622853\n",
      "\t\t {'max_depth': 20, 'n_estimators': 200} 20.827363516202986\n",
      "\t\t {'max_depth': 40, 'n_estimators': 200} 20.843112985283046\n",
      "\t\t {'max_depth': 40, 'n_estimators': 100} 20.854928953319465\n",
      "\t\t {'max_depth': 15, 'n_estimators': 400} 20.867705603745527\n",
      "\t\t {'max_depth': 15, 'n_estimators': 800} 20.869318037996003\n",
      "\t\t {'max_depth': 15, 'n_estimators': 200} 20.90983584072967\n"
     ]
    }
   ],
   "source": [
    "#Random Forest\n",
    "rf_params = {'n_estimators':[100, 200, 400, 800], 'max_depth':[5, 10, 15, 20, 40]}\n",
    "gridRF, X_trainRF, X_testRF, y_trainRF, y_testRF = employ_grid_search(df, RandomForestRegressor(), rf_params)\n",
    "print_grid_models_info(gridRF)\n",
    "time.sleep(1)\n",
    "del gridRF"
   ]
  },
  {
   "cell_type": "code",
   "execution_count": 7,
   "metadata": {},
   "outputs": [
    {
     "name": "stdout",
     "output_type": "stream",
     "text": [
      "Using 10 threads to parallelize grid search.\n",
      "Fitting 10 folds for each of 20 candidates, totalling 200 fits\n",
      "\n",
      "======== DecisionTreeRegressor() ========\n",
      "\t-------- mean_test_neg_mean_absolute_error --------\n",
      "\t\t {'max_depth': 10, 'min_samples_leaf': 8} 17.808737763800895\n",
      "\t\t {'max_depth': 10, 'min_samples_leaf': 4} 17.892726263847177\n",
      "\t\t {'max_depth': 10, 'min_samples_leaf': 2} 18.20861364630054\n",
      "\t\t {'max_depth': 5, 'min_samples_leaf': 1} 18.30293335793748\n",
      "\t\t {'max_depth': 5, 'min_samples_leaf': 4} 18.304588294629827\n",
      "\t\t {'max_depth': 5, 'min_samples_leaf': 2} 18.30739425297194\n",
      "\t\t {'max_depth': 10, 'min_samples_leaf': 1} 18.31074533354099\n",
      "\t\t {'max_depth': 5, 'min_samples_leaf': 8} 18.34783702604316\n",
      "\t\t {'max_depth': 15, 'min_samples_leaf': 8} 18.402971229645132\n",
      "\t\t {'max_depth': 20, 'min_samples_leaf': 8} 18.549396938643554\n",
      "\t-------- mean_test_neg_root_mean_squared_error --------\n",
      "\t\t {'max_depth': 5, 'min_samples_leaf': 2} 24.760699964530254\n",
      "\t\t {'max_depth': 5, 'min_samples_leaf': 4} 24.762972643309705\n",
      "\t\t {'max_depth': 5, 'min_samples_leaf': 1} 24.76940494915968\n",
      "\t\t {'max_depth': 5, 'min_samples_leaf': 8} 24.844383678367997\n",
      "\t\t {'max_depth': 10, 'min_samples_leaf': 8} 24.91528252254232\n",
      "\t\t {'max_depth': 10, 'min_samples_leaf': 4} 25.237773136279348\n",
      "\t\t {'max_depth': 15, 'min_samples_leaf': 8} 25.607561541066538\n",
      "\t\t {'max_depth': 20, 'min_samples_leaf': 8} 25.754258764743007\n",
      "\t\t {'max_depth': 40, 'min_samples_leaf': 8} 25.75808200336892\n",
      "\t\t {'max_depth': 10, 'min_samples_leaf': 2} 25.914546447515068\n"
     ]
    }
   ],
   "source": [
    "#Decision Tree\n",
    "tree_params = {'min_samples_leaf':[1, 2, 4, 8], 'max_depth':[5, 10, 15, 20, 40]}\n",
    "gridDT, X_trainDT, X_testDT, y_trainDT, y_testDT = employ_grid_search(df, DecisionTreeRegressor(), tree_params)\n",
    "print_grid_models_info(gridDT)\n",
    "time.sleep(1)\n",
    "del gridDT"
   ]
  },
  {
   "cell_type": "code",
   "execution_count": 10,
   "metadata": {},
   "outputs": [
    {
     "name": "stdout",
     "output_type": "stream",
     "text": [
      "Using 10 threads to parallelize grid search.\n",
      "Fitting 10 folds for each of 360 candidates, totalling 3600 fits\n",
      "\n",
      "======== XGBRegressor(base_score=None, booster=None, colsample_bylevel=None,\n",
      "             colsample_bynode=None, colsample_bytree=None,\n",
      "             enable_categorical=False, gamma=None, gpu_id=None,\n",
      "             importance_type=None, interaction_constraints=None,\n",
      "             learning_rate=None, max_delta_step=None, max_depth=None,\n",
      "             min_child_weight=None, missing=nan, monotone_constraints=None,\n",
      "             n_estimators=100, n_jobs=None, num_parallel_tree=None,\n",
      "             predictor=None, random_state=None, reg_alpha=None, reg_lambda=None,\n",
      "             scale_pos_weight=None, subsample=None, tree_method=None,\n",
      "             validate_parameters=None, verbosity=None) ========\n",
      "\t-------- mean_test_neg_mean_absolute_error --------\n",
      "\t\t {'colsample_bytree': 0.6, 'learning_rate': 0.05, 'max_depth': 8, 'n_estimators': 800} 14.154729035846426\n",
      "\t\t {'colsample_bytree': 0.5, 'learning_rate': 0.01, 'max_depth': 10, 'n_estimators': 800} 14.160410060597366\n",
      "\t\t {'colsample_bytree': 0.5, 'learning_rate': 0.05, 'max_depth': 7, 'n_estimators': 800} 14.174043815464916\n",
      "\t\t {'colsample_bytree': 0.6, 'learning_rate': 0.01, 'max_depth': 10, 'n_estimators': 800} 14.174157734549599\n",
      "\t\t {'colsample_bytree': 0.6, 'learning_rate': 0.01, 'max_depth': 15, 'n_estimators': 400} 14.17576460124244\n",
      "\t\t {'colsample_bytree': 0.8, 'learning_rate': 0.05, 'max_depth': 8, 'n_estimators': 800} 14.183488105342168\n",
      "\t\t {'colsample_bytree': 0.8, 'learning_rate': 0.01, 'max_depth': 15, 'n_estimators': 400} 14.1871931568566\n",
      "\t\t {'colsample_bytree': 0.5, 'learning_rate': 0.05, 'max_depth': 8, 'n_estimators': 800} 14.198024983963473\n",
      "\t\t {'colsample_bytree': 0.6, 'learning_rate': 0.05, 'max_depth': 8, 'n_estimators': 400} 14.206927305086191\n",
      "\t\t {'colsample_bytree': 0.6, 'learning_rate': 0.01, 'max_depth': 15, 'n_estimators': 800} 14.21366526518697\n",
      "\t-------- mean_test_neg_root_mean_squared_error --------\n",
      "\t\t {'colsample_bytree': 0.5, 'learning_rate': 0.05, 'max_depth': 7, 'n_estimators': 800} 19.88514874248736\n",
      "\t\t {'colsample_bytree': 0.5, 'learning_rate': 0.01, 'max_depth': 10, 'n_estimators': 800} 19.92121097322986\n",
      "\t\t {'colsample_bytree': 0.6, 'learning_rate': 0.05, 'max_depth': 8, 'n_estimators': 800} 19.927679258460433\n",
      "\t\t {'colsample_bytree': 0.5, 'learning_rate': 0.05, 'max_depth': 8, 'n_estimators': 800} 19.939561894652876\n",
      "\t\t {'colsample_bytree': 0.6, 'learning_rate': 0.05, 'max_depth': 7, 'n_estimators': 800} 19.988595583651055\n",
      "\t\t {'colsample_bytree': 0.6, 'learning_rate': 0.01, 'max_depth': 10, 'n_estimators': 800} 19.995204801741032\n",
      "\t\t {'colsample_bytree': 0.6, 'learning_rate': 0.05, 'max_depth': 8, 'n_estimators': 400} 20.011281968606443\n",
      "\t\t {'colsample_bytree': 0.5, 'learning_rate': 0.05, 'max_depth': 8, 'n_estimators': 400} 20.014350832140398\n",
      "\t\t {'colsample_bytree': 0.5, 'learning_rate': 0.05, 'max_depth': 7, 'n_estimators': 400} 20.01505130440171\n",
      "\t\t {'colsample_bytree': 0.8, 'learning_rate': 0.05, 'max_depth': 8, 'n_estimators': 800} 20.024434665754804\n"
     ]
    }
   ],
   "source": [
    "#XGboost --- This can take quite some time to run due to multiple parameters tried.\n",
    "xgb_params = {'n_estimators' : [100, 200, 400, 800], 'learning_rate' : [.01, .05, .1, .2, .4, .8], 'max_depth' : [5, 7, 8, 10, 15], 'colsample_bytree' : [.5, .6, .8]}\n",
    "gridXGB, X_trainXGB, X_testXGB, y_trainXGB, y_testXGB = employ_grid_search(df, XGBRegressor(), xgb_params)\n",
    "print_grid_models_info(gridXGB)\n",
    "time.sleep(1)\n",
    "del gridXGB"
   ]
  },
  {
   "cell_type": "code",
   "execution_count": 13,
   "metadata": {},
   "outputs": [
    {
     "name": "stderr",
     "output_type": "stream",
     "text": [
      "C:\\Users\\visdi\\AppData\\Roaming\\Python\\Python38\\site-packages\\sklearn\\linear_model\\_base.py:141: FutureWarning: 'normalize' was deprecated in version 1.0 and will be removed in 1.2.\n",
      "If you wish to scale the data, use Pipeline with a StandardScaler in a preprocessing stage. To reproduce the previous behavior:\n",
      "\n",
      "from sklearn.pipeline import make_pipeline\n",
      "\n",
      "model = make_pipeline(StandardScaler(with_mean=False), LinearRegression())\n",
      "\n",
      "If you wish to pass a sample_weight parameter, you need to pass it as a fit parameter to each step of the pipeline as follows:\n",
      "\n",
      "kwargs = {s[0] + '__sample_weight': sample_weight for s in model.steps}\n",
      "model.fit(X, y, **kwargs)\n",
      "\n",
      "\n",
      "  warnings.warn(\n"
     ]
    },
    {
     "name": "stdout",
     "output_type": "stream",
     "text": [
      "Linear Regresion\n",
      "Mean abs error: 52.71987482092808\n",
      "RMSE: 403.1089874759779\n",
      "-------------------------------------\n",
      "Decision Tree\n",
      "Mean abs error: 51.935683685773036\n",
      "RMSE: 402.7373007510479\n",
      "-------------------------------------\n",
      "Random Forest\n",
      "Mean abs error: 49.23041492693111\n",
      "RMSE: 402.0998279788477\n",
      "-------------------------------------\n",
      "XGBoost\n",
      "Mean abs error: 48.022905043122165\n",
      "RMSE: 401.5909378193915\n"
     ]
    }
   ],
   "source": [
    "#Training the 2 best models (the difference is in the number of features as the input)\n",
    "#with the optimal values for the hyperparameters as found through grid search.\n",
    "\n",
    "modelLR = LinearRegression(normalize = True)\n",
    "modelTree = DecisionTreeRegressor( max_depth=10, min_samples_leaf=8)\n",
    "modelRF = RandomForestRegressor(n_estimators=400, max_depth=40)\n",
    "modelXGB = XGBRegressor(colsample_bytree= 0.5, learning_rate= 0.05, max_depth= 7, n_estimators= 800)\n",
    "\n",
    "modelLR.fit(X_trainLR, y_trainLR)\n",
    "modelTree.fit(X_trainDT, y_trainDT)\n",
    "modelRF.fit(X_trainRF, y_trainRF)\n",
    "modelXGB.fit(X_trainXGB, y_trainXGB)\n",
    "\n",
    "predsLR = modelLR.predict(X_testLR)\n",
    "predsTree = modelTree.predict(X_testDT)\n",
    "predsRF = modelRF.predict(X_testRF)\n",
    "predsXGB = modelXGB.predict(X_testXGB)\n",
    "\n",
    "print(\"Linear Regresion\")\n",
    "print(\"Mean abs error:\",mean_absolute_error(y_testLR, predsLR))\n",
    "print(\"RMSE:\",mean_squared_error(y_testLR, predsLR, squared=False))\n",
    "print(\"-------------------------------------\")\n",
    "print(\"Decision Tree\")\n",
    "print(\"Mean abs error:\",mean_absolute_error(y_testDT, predsTree))\n",
    "print(\"RMSE:\",mean_squared_error(y_testDT, predsTree, squared=False))\n",
    "print(\"-------------------------------------\")\n",
    "print(\"Random Forest\")\n",
    "print(\"Mean abs error:\",mean_absolute_error(y_testRF, predsRF))\n",
    "print(\"RMSE:\",mean_squared_error(y_testRF, predsRF, squared=False))\n",
    "print(\"-------------------------------------\")\n",
    "print(\"XGBoost\")\n",
    "print(\"Mean abs error:\",mean_absolute_error(y_testXGB, predsXGB))\n",
    "print(\"RMSE:\",mean_squared_error(y_testXGB, predsXGB, squared=False))"
   ]
  },
  {
   "cell_type": "code",
   "execution_count": 14,
   "metadata": {},
   "outputs": [
    {
     "data": {
      "image/png": "[encoded data removed]",
      "text/plain": [
       "<Figure size 1152x648 with 1 Axes>"
      ]
     },
     "metadata": {},
     "output_type": "display_data"
    }
   ],
   "source": [
    "#Visualize a part of the predictions against their true values\n",
    "\n",
    "sns.set(rc={\"figure.figsize\":(16, 9)})\n",
    "plt.scatter(x = range(len(predsXGB)), y = (predsXGB), marker='d')\n",
    "plt.scatter(x = range(len(predsXGB)), y = y_testXGB)\n",
    "plt.ylim((0,200))\n",
    "plt.xlim((100,15))\n",
    "plt.show()"
   ]
  },
  {
   "cell_type": "code",
   "execution_count": 15,
   "metadata": {},
   "outputs": [
    {
     "name": "stdout",
     "output_type": "stream",
     "text": [
      "There are 635 undervalued listings on AirBnB.\n"
     ]
    }
   ],
   "source": [
    "#Find the indices of the undervalued properties threshold is: pred > 1.3 * value\n",
    "\n",
    "undervalued = []\n",
    "for i,pred in enumerate(predsXGB):\n",
    "    if pred > y_testXGB.values[i]*1.3:\n",
    "        undervalued.append(i)\n",
    "    \n",
    "print(\"There are\",len(undervalued),\"undervalued listings on AirBnB.\")\n"
   ]
  },
  {
   "cell_type": "code",
   "execution_count": 16,
   "metadata": {},
   "outputs": [
    {
     "data": {
      "text/plain": [
       "['XGBmodel.joblib']"
      ]
     },
     "execution_count": 16,
     "metadata": {},
     "output_type": "execute_result"
    }
   ],
   "source": [
    "# Saving the best model\n",
    "\n",
    "from joblib import dump\n",
    "dump(modelXGB, \"XGBmodel.joblib\")"
   ]
  }
 ],
 "metadata": {
  "interpreter": {
   "hash": "260a5f10672223a5496d2c350e1f1a58a8bdbc7ec9a4217a0f83c832a244ea6d"
  },
  "kernelspec": {
   "display_name": "Python 3.8.10 64-bit",
   "language": "python",
   "name": "python3"
  },
  "language_info": {
   "codemirror_mode": {
    "name": "ipython",
    "version": 3
   },
   "file_extension": ".py",
   "mimetype": "text/x-python",
   "name": "python",
   "nbconvert_exporter": "python",
   "pygments_lexer": "ipython3",
   "version": "3.8.6"
  },
  "orig_nbformat": 4
 },
 "nbformat": 4,
 "nbformat_minor": 2
}
